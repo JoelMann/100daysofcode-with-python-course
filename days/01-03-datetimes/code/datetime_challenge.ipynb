{
 "cells": [
  {
   "cell_type": "code",
   "execution_count": 18,
   "metadata": {},
   "outputs": [],
   "source": [
    "from datetime import datetime\n",
    "from datetime import timedelta\n",
    "import os\n",
    "import urllib.request\n",
    "\n",
    "SHUTDOWN_EVENT = 'Shutdown initiated'\n",
    "\n",
    "# prep: read in the logfile\n",
    "tmp = os.getenv(\"TMP\", \"/tmp\")\n",
    "logfile = os.path.join(tmp, 'log')\n",
    "urllib.request.urlretrieve(\n",
    "    'https://bites-data.s3.us-east-2.amazonaws.com/messages.log',\n",
    "    logfile\n",
    ")\n",
    "\n",
    "with open(logfile) as f:\n",
    "    loglines = f.readlines()\n",
    "\n",
    "\n",
    "# for you to code:\n",
    "\n",
    "def convert_to_datetime(line: str) -> datetime:\n",
    "    remove_char = filter(str.isdigit,line)\n",
    "    string_output = \"\".join(remove_char)[:14]  #trim any digits in log message\n",
    "    return datetime.strptime(string_output,'%Y%m%d%H%M%S')\n",
    "    \n",
    "\n",
    "\n",
    "def time_between_shutdowns(loglines: list[str]) -> any:\n",
    "    \"\"\"TODO 2:\n",
    "       Extract shutdown events (\"Shutdown initiated\") from loglines and\n",
    "       calculate the timedelta between the first and last one.\n",
    "       Return this datetime.timedelta object.\n",
    "    \"\"\" \n",
    "    shutdown_logs = []\n",
    "    substring = \"Shutdown initiated\"\n",
    "    for line in loglines:\n",
    "        if line.find(substring) != -1:\n",
    "            shutdown_logs.append(line)\n",
    "    if shutdown_logs: \n",
    "        return convert_to_datetime(shutdown_logs[-1]) - convert_to_datetime(shutdown_logs[0])\n",
    "    \n",
    "    return None\n",
    "\n",
    "def test_convert_to_datetime():\n",
    "    line1 = 'ERROR 2014-07-03T23:24:31 supybot Invalid user dictionary file'\n",
    "    line2 = 'INFO 2015-10-03T10:12:51 supybot Shutdown initiated.'\n",
    "    line3 = 'INFO 2016-09-03T02:11:22 supybot Shutdown complete.'\n",
    "    assert convert_to_datetime(line1) == datetime(2014, 7, 3, 23, 24, 31)\n",
    "    assert convert_to_datetime(line2) == datetime(2015, 10, 3, 10, 12, 51)\n",
    "    assert convert_to_datetime(line3) == datetime(2016, 9, 3, 2, 11, 22)\n",
    "\n",
    "\n",
    "def test_time_between_events():\n",
    "    diff = time_between_shutdowns(loglines)\n",
    "    assert type(diff) == timedelta\n",
    "    assert str(diff) == '0:03:31'"
   ]
  },
  {
   "cell_type": "markdown",
   "metadata": {},
   "source": []
  },
  {
   "cell_type": "markdown",
   "metadata": {},
   "source": []
  },
  {
   "cell_type": "code",
   "execution_count": 19,
   "metadata": {},
   "outputs": [
    {
     "name": "stdout",
     "output_type": "stream",
     "text": [
      "None\n",
      "None\n"
     ]
    }
   ],
   "source": [
    "print(test_convert_to_datetime())\n",
    "print(test_time_between_events())\n"
   ]
  }
 ],
 "metadata": {
  "interpreter": {
   "hash": "767d51c1340bd893661ea55ea3124f6de3c7a262a8b4abca0554b478b1e2ff90"
  },
  "kernelspec": {
   "display_name": "Python 3.9.10 64-bit",
   "language": "python",
   "name": "python3"
  },
  "language_info": {
   "codemirror_mode": {
    "name": "ipython",
    "version": 3
   },
   "file_extension": ".py",
   "mimetype": "text/x-python",
   "name": "python",
   "nbconvert_exporter": "python",
   "pygments_lexer": "ipython3",
   "version": "3.9.10"
  },
  "orig_nbformat": 4
 },
 "nbformat": 4,
 "nbformat_minor": 2
}
