{
 "cells": [
  {
   "cell_type": "code",
   "execution_count": 27,
   "metadata": {},
   "outputs": [],
   "source": [
    "import requests\n",
    "from collections import defaultdict, namedtuple, Counter, deque\n",
    "import os\n",
    "import csv\n",
    "import statistics\n",
    "\n",
    "\n",
    "url = \"https://raw.githubusercontent.com/sundeepblue/movie_rating_prediction/master/movie_metadata.csv\"\n",
    "r = \"\"\n",
    "try:\n",
    "    r = requests.get(url)\n",
    "except Exception:\n",
    "    r = None\n",
    "\n",
    "### Note that his is copied functionality from assignment ###\n",
    "def get_movies_by_director(data):\n",
    "    \"\"\"Extracts all movies from csv and stores them in a dictionary\n",
    "       where keys are directors, and values is a list of movies (named tuples)\"\"\"\n",
    "    directors = defaultdict(list)\n",
    "    with open(data, encoding='utf-8') as f:\n",
    "        for line in csv.DictReader(f):\n",
    "            try:\n",
    "                director = line['director_name']\n",
    "                movie = line['movie_title'].replace('\\xa0', '')\n",
    "                year = int(line['title_year'])\n",
    "                score = float(line['imdb_score'])\n",
    "            except ValueError:\n",
    "                continue\n",
    "\n",
    "            m = Movie_stuff(title=movie, year=year, score=score)\n",
    "            directors[director].append(m)\n",
    "\n",
    "    return directors\n",
    "\n",
    "def write_request_to_file():\n",
    "    with open('movies.csv', 'w') as f:\n",
    "        f.write(r.text)"
   ]
  },
  {
   "cell_type": "markdown",
   "metadata": {},
   "source": [
    "In here, I'm testing the use of a named tuple. Oddly enough, this gets refered to previously, which is totally in violation of where it should be. Gotta love notebooks."
   ]
  },
  {
   "cell_type": "code",
   "execution_count": 3,
   "metadata": {},
   "outputs": [
    {
     "name": "stdout",
     "output_type": "stream",
     "text": [
      "test\n"
     ]
    }
   ],
   "source": [
    "Movie_stuff = namedtuple('Movie', 'title year score')\n",
    "\n",
    "a_movie = Movie_stuff(title=\"test\", year=\"1999\", score=\"100\")\n",
    "\n",
    "print(a_movie.title)\n",
    "\n"
   ]
  },
  {
   "cell_type": "code",
   "execution_count": 22,
   "metadata": {},
   "outputs": [],
   "source": [
    "folder = os.getcwd()\n",
    "write_request_to_file()\n",
    "# if os.path.exists(os.path.join(folder,'movies.csv')):\n",
    "#     with open('movies.csv') as f:\n",
    "#         print(f.readlines())\n",
    "# else:\n",
    "#     print(\"Please check that movies.csv has been generated\")"
   ]
  },
  {
   "cell_type": "code",
   "execution_count": 31,
   "metadata": {},
   "outputs": [
    {
     "name": "stdout",
     "output_type": "stream",
     "text": [
      "[]\n"
     ]
    }
   ],
   "source": [
    "directors = get_movies_by_director('movies.csv')\n",
    "print(directors['*'])"
   ]
  },
  {
   "cell_type": "markdown",
   "metadata": {},
   "source": [
    "### Here, I'm going to want to get this sorted into top 5 directors with conditions\n",
    "\n",
    "The assignment recommends 20 highest with average weight. I'm shortening to top 5 but the same steps could apply, this just helps my brain think about it atm.\n"
   ]
  },
  {
   "cell_type": "code",
   "execution_count": 52,
   "metadata": {},
   "outputs": [
    {
     "data": {
      "text/plain": [
       "[('Christopher Nolan', 8.425),\n",
       " ('Quentin Tarantino', 8.2),\n",
       " ('Frank Capra', 8.059999999999999),\n",
       " ('Stanley Kubrick', 8.0),\n",
       " ('James Cameron', 7.914285714285715),\n",
       " ('Alejandro G. Iñárritu', 7.783333333333333),\n",
       " ('Fred Zinnemann', 7.76),\n",
       " ('David Fincher', 7.75),\n",
       " ('Peter Jackson', 7.675),\n",
       " ('Martin Scorsese', 7.66),\n",
       " ('David Lynch', 7.64),\n",
       " ('Wes Anderson', 7.628571428571428),\n",
       " ('Paul Greengrass', 7.585714285714285),\n",
       " ('Brad Bird', 7.58),\n",
       " ('Paul Thomas Anderson', 7.516666666666667),\n",
       " ('Sam Mendes', 7.5),\n",
       " ('Darren Aronofsky', 7.483333333333333),\n",
       " ('Steven Spielberg', 7.480769230769231),\n",
       " ('Alexander Payne', 7.42),\n",
       " ('Francis Ford Coppola', 7.418181818181818),\n",
       " ('Roman Polanski', 7.416666666666667),\n",
       " ('Stephen Daldry', 7.4),\n",
       " ('George Lucas', 7.3999999999999995),\n",
       " ('Danny Boyle', 7.388888888888888),\n",
       " ('John Lasseter', 7.38),\n",
       " ('Mike Leigh', 7.36),\n",
       " ('Alfred Hitchcock', 7.35),\n",
       " ('Jean-Pierre Jeunet', 7.34),\n",
       " ('Terry Gilliam', 7.328571428571428),\n",
       " ('Richard Linklater', 7.327272727272727),\n",
       " ('Edward Zwick', 7.325),\n",
       " ('Robert Zemeckis', 7.3076923076923075),\n",
       " ('Bryan Singer', 7.2875),\n",
       " ('Michael Moore', 7.283333333333333),\n",
       " ('Guy Ritchie', 7.2625),\n",
       " ('Ang Lee', 7.25),\n",
       " ('Clint Eastwood', 7.225),\n",
       " ('Tom Tykwer', 7.22),\n",
       " ('James Wan', 7.2),\n",
       " ('Jason Reitman', 7.2),\n",
       " ('Sidney Lumet', 7.183333333333334),\n",
       " ('Zack Snyder', 7.175),\n",
       " ('Kenneth Branagh', 7.166666666666667),\n",
       " ('Mel Brooks', 7.1571428571428575),\n",
       " ('Marc Forster', 7.1499999999999995),\n",
       " ('Guillermo del Toro', 7.14),\n",
       " ('Jon Favreau', 7.128571428571429),\n",
       " ('Doug Liman', 7.128571428571429),\n",
       " ('Gus Van Sant', 7.128571428571428),\n",
       " ('Stephen Frears', 7.127272727272727),\n",
       " ('Baz Luhrmann', 7.12),\n",
       " ('Ethan Coen', 7.114285714285715),\n",
       " ('David Cronenberg', 7.114285714285714),\n",
       " ('Lasse Hallström', 7.111111111111111),\n",
       " ('Neil Burger', 7.1),\n",
       " ('Jonathan Demme', 7.1),\n",
       " ('Yimou Zhang', 7.0875),\n",
       " ('Michael Mann', 7.083333333333333),\n",
       " ('Andrew Adamson', 7.08),\n",
       " ('James Mangold', 7.075),\n",
       " ('Ridley Scott', 7.070588235294117),\n",
       " ('James Ivory', 7.057142857142857),\n",
       " ('Rob Reiner', 7.0181818181818185),\n",
       " ('William Friedkin', 7.014285714285714),\n",
       " ('Woody Allen', 7.009090909090909),\n",
       " ('Francis Lawrence', 7.0),\n",
       " ('John Landis', 7.0),\n",
       " ('Gore Verbinski', 6.985714285714286),\n",
       " (\"Gavin O'Connor\", 6.9799999999999995),\n",
       " ('Oliver Stone', 6.95),\n",
       " ('Guy Hamilton', 6.95),\n",
       " ('F. Gary Gray', 6.9375),\n",
       " ('Antoine Fuqua', 6.9375),\n",
       " ('Tim Burton', 6.93125),\n",
       " ('Ron Howard', 6.930769230769231),\n",
       " ('Lana Wachowski', 6.916666666666667),\n",
       " ('Adam McKay', 6.916666666666667),\n",
       " ('John Carpenter', 6.915384615384616),\n",
       " ('Sam Raimi', 6.907692307692308),\n",
       " ('Taylor Hackford', 6.883333333333334),\n",
       " ('Atom Egoyan', 6.883333333333333),\n",
       " ('Andrew Niccol', 6.88),\n",
       " ('Brad Anderson', 6.86),\n",
       " ('Wolfgang Petersen', 6.857142857142858),\n",
       " ('Mike Newell', 6.8428571428571425),\n",
       " ('Justin Lin', 6.84),\n",
       " ('John Lee Hancock', 6.84),\n",
       " ('Robert Redford', 6.84),\n",
       " ('Scott Hicks', 6.84),\n",
       " ('Richard Donner', 6.825),\n",
       " ('Alex Proyas', 6.82),\n",
       " ('George Miller', 6.8),\n",
       " ('Paul McGuigan', 6.8),\n",
       " ('Tony Scott', 6.791666666666667),\n",
       " ('George A. Romero', 6.788888888888889),\n",
       " ('John Madden', 6.78),\n",
       " ('David O. Russell', 6.775),\n",
       " ('David Ayer', 6.771428571428571),\n",
       " ('Roger Donaldson', 6.771428571428571),\n",
       " ('Phillip Noyce', 6.766666666666667)]"
      ]
     },
     "execution_count": 52,
     "metadata": {},
     "output_type": "execute_result"
    }
   ],
   "source": [
    "count = Counter()\n",
    "# This should be refactored to lambda some of it. Or split into functions\n",
    "for director,movies in directors.items():\n",
    "    if len(movies)>4:\n",
    "        scores = []\n",
    "        for individual in movies:\n",
    "            scores.append(individual.score)\n",
    "        count[director] += statistics.mean(scores)\n",
    "\n",
    "count.most_common(100) # Does this work? ironically yes"
   ]
  },
  {
   "cell_type": "markdown",
   "metadata": {},
   "source": [
    "So this is amusing: most_common works here, I think its because its ordered, not because its using the actual most_common functionality"
   ]
  },
  {
   "cell_type": "code",
   "execution_count": 53,
   "metadata": {},
   "outputs": [
    {
     "name": "stdout",
     "output_type": "stream",
     "text": [
      "Counter({'Christopher Nolan': 8.425, 'Quentin Tarantino': 8.2, 'Frank Capra': 8.059999999999999, 'Stanley Kubrick': 8.0, 'James Cameron': 7.914285714285715, 'Alejandro G. Iñárritu': 7.783333333333333, 'Fred Zinnemann': 7.76, 'David Fincher': 7.75, 'Peter Jackson': 7.675, 'Martin Scorsese': 7.66, 'David Lynch': 7.64, 'Wes Anderson': 7.628571428571428, 'Paul Greengrass': 7.585714285714285, 'Brad Bird': 7.58, 'Paul Thomas Anderson': 7.516666666666667, 'Sam Mendes': 7.5, 'Darren Aronofsky': 7.483333333333333, 'Steven Spielberg': 7.480769230769231, 'Alexander Payne': 7.42, 'Francis Ford Coppola': 7.418181818181818, 'Roman Polanski': 7.416666666666667, 'Stephen Daldry': 7.4, 'George Lucas': 7.3999999999999995, 'Danny Boyle': 7.388888888888888, 'John Lasseter': 7.38, 'Mike Leigh': 7.36, 'Alfred Hitchcock': 7.35, 'Jean-Pierre Jeunet': 7.34, 'Terry Gilliam': 7.328571428571428, 'Richard Linklater': 7.327272727272727, 'Edward Zwick': 7.325, 'Robert Zemeckis': 7.3076923076923075, 'Bryan Singer': 7.2875, 'Michael Moore': 7.283333333333333, 'Guy Ritchie': 7.2625, 'Ang Lee': 7.25, 'Clint Eastwood': 7.225, 'Tom Tykwer': 7.22, 'James Wan': 7.2, 'Jason Reitman': 7.2, 'Sidney Lumet': 7.183333333333334, 'Zack Snyder': 7.175, 'Kenneth Branagh': 7.166666666666667, 'Mel Brooks': 7.1571428571428575, 'Marc Forster': 7.1499999999999995, 'Guillermo del Toro': 7.14, 'Jon Favreau': 7.128571428571429, 'Doug Liman': 7.128571428571429, 'Gus Van Sant': 7.128571428571428, 'Stephen Frears': 7.127272727272727, 'Baz Luhrmann': 7.12, 'Ethan Coen': 7.114285714285715, 'David Cronenberg': 7.114285714285714, 'Lasse Hallström': 7.111111111111111, 'Neil Burger': 7.1, 'Jonathan Demme': 7.1, 'Yimou Zhang': 7.0875, 'Michael Mann': 7.083333333333333, 'Andrew Adamson': 7.08, 'James Mangold': 7.075, 'Ridley Scott': 7.070588235294117, 'James Ivory': 7.057142857142857, 'Rob Reiner': 7.0181818181818185, 'William Friedkin': 7.014285714285714, 'Woody Allen': 7.009090909090909, 'Francis Lawrence': 7.0, 'John Landis': 7.0, 'Gore Verbinski': 6.985714285714286, \"Gavin O'Connor\": 6.9799999999999995, 'Oliver Stone': 6.95, 'Guy Hamilton': 6.95, 'F. Gary Gray': 6.9375, 'Antoine Fuqua': 6.9375, 'Tim Burton': 6.93125, 'Ron Howard': 6.930769230769231, 'Lana Wachowski': 6.916666666666667, 'Adam McKay': 6.916666666666667, 'John Carpenter': 6.915384615384616, 'Sam Raimi': 6.907692307692308, 'Taylor Hackford': 6.883333333333334, 'Atom Egoyan': 6.883333333333333, 'Andrew Niccol': 6.88, 'Brad Anderson': 6.86, 'Wolfgang Petersen': 6.857142857142858, 'Mike Newell': 6.8428571428571425, 'Justin Lin': 6.84, 'John Lee Hancock': 6.84, 'Robert Redford': 6.84, 'Scott Hicks': 6.84, 'Richard Donner': 6.825, 'Alex Proyas': 6.82, 'George Miller': 6.8, 'Paul McGuigan': 6.8, 'Tony Scott': 6.791666666666667, 'George A. Romero': 6.788888888888889, 'John Madden': 6.78, 'David O. Russell': 6.775, 'David Ayer': 6.771428571428571, 'Roger Donaldson': 6.771428571428571, 'Phillip Noyce': 6.766666666666667, 'Neil Jordan': 6.7625, 'Eric Darnell': 6.76, 'Nancy Meyers': 6.76, 'George Clooney': 6.76, 'D.J. Caruso': 6.74, 'Brian Helgeland': 6.72, 'Paul Verhoeven': 6.716666666666667, 'Martin Campbell': 6.711111111111111, 'Steven Soderbergh': 6.70625, 'Norman Jewison': 6.7, 'Tobe Hooper': 6.7, 'Brian De Palma': 6.683333333333334, 'Mike Nichols': 6.683333333333334, 'Kevin Reynolds': 6.68, 'Mira Nair': 6.68, 'Peter Cattaneo': 6.68, 'Peter Berg': 6.666666666666667, 'Richard LaGravenese': 6.66, 'Nicole Holofcener': 6.66, 'Todd Phillips': 6.6571428571428575, 'Chris Columbus': 6.654545454545454, 'Michael Bay': 6.638461538461539, 'Joe Wright': 6.6375, 'John McTiernan': 6.63, 'Cameron Crowe': 6.628571428571429, 'Curtis Hanson': 6.616666666666667, 'Gary Fleder': 6.616666666666666, 'Luc Besson': 6.6000000000000005, 'Rob Marshall': 6.6, 'Judd Apatow': 6.6, 'Rod Lurie': 6.6, 'Richard Lester': 6.6, 'John Glen': 6.6, 'Kirk Jones': 6.6, 'Sydney Pollack': 6.58, 'Barry Levinson': 6.576923076923077, 'David Gordon Green': 6.575, 'Spike Lee': 6.56875, 'Kevin Smith': 6.566666666666666, 'Darren Lynn Bousman': 6.5600000000000005, 'Harold Ramis': 6.55, 'Louis Leterrier': 6.542857142857143, 'Larry Charles': 6.54, 'Richard Fleischer': 6.54, 'Frank Oz': 6.5375000000000005, 'Michael Apted': 6.516666666666667, 'John Woo': 6.516666666666667, 'Jon Turteltaub': 6.5, 'Jay Roach': 6.4875, 'Jaume Collet-Serra': 6.475, 'David Koepp': 6.46, 'Barry Sonnenfeld': 6.457142857142857, 'Nicholas Stoller': 6.44, 'Miguel Arteta': 6.42, 'Brett Ratner': 6.41, 'Joel Schumacher': 6.407692307692308, 'Bill Condon': 6.383333333333333, 'Robert Schwentke': 6.35, 'Ben Stiller': 6.34, 'Tom Shadyac': 6.314285714285714, 'Mark Waters': 6.3, 'Joe Dante': 6.3, 'Lawrence Kasdan': 6.26, 'John Singleton': 6.257142857142857, 'Andy Tennant': 6.25, 'Michael Winterbottom': 6.228571428571429, 'Timur Bekmambetov': 6.216666666666667, 'Roland Emmerich': 6.1875, 'Peter Segal': 6.185714285714286, 'John Frankenheimer': 6.140000000000001, 'Lee Tamahori': 6.14, 'Gary Winick': 6.14, 'Scott Derrickson': 6.14, 'Harold Becker': 6.14, 'Bobby Farrelly': 6.13, 'Stephen Herek': 6.125, 'McG': 6.083333333333333, 'Chris Weitz': 6.08, 'Ivan Reitman': 6.075, 'Tim Story': 6.05, 'M. Night Shyamalan': 6.044444444444444, 'Anne Fletcher': 6.04, 'Shawn Levy': 6.033333333333333, 'Simon West': 6.025, 'Wayne Wang': 6.02, 'Paul Weitz': 6.016666666666667, 'Stephen Hopkins': 6.0, 'Robert Luketic': 6.0, 'Wes Craven': 6.0, 'Paul W.S. Anderson': 5.99, 'Catherine Hardwicke': 5.985714285714286, 'Adam Shankman': 5.9625, 'Garry Marshall': 5.95, 'Rob Minkoff': 5.94, 'Frank Coraci': 5.9, 'Chuck Russell': 5.9, 'Paul Feig': 5.8999999999999995, 'Malcolm D. Lee': 5.785714285714286, 'Rob Cohen': 5.781818181818182, 'Peter Chelsom': 5.78, 'Michael Polish': 5.78, 'Andy Fickman': 5.766666666666667, 'Steve Miner': 5.76, 'Renny Harlin': 5.746666666666667, 'Paul Schrader': 5.742857142857143, 'Dennis Dugan': 5.733333333333333, 'Jonathan Liebesman': 5.7, 'Kenny Ortega': 5.7, 'Robert Rodriguez': 5.6923076923076925, 'Donald Petrie': 5.6625000000000005, 'Rob Zombie': 5.5600000000000005, 'Mark Neveldine': 5.56, 'Brian Robbins': 5.533333333333333, 'Jan de Bont': 5.5200000000000005, 'David R. Ellis': 5.516666666666667, 'Les Mayfield': 5.5, 'Peter Hyams': 5.483333333333333, 'Tim Hill': 5.44, 'Jon M. Chu': 5.34, 'Andrzej Bartkowiak': 5.26, 'David Zucker': 5.26, 'Raja Gosnell': 4.916666666666667, 'Tyler Perry': 4.9, 'John Whitesell': 4.88, 'Brian Levant': 4.816666666666666, 'Uwe Boll': 3.7199999999999998})\n"
     ]
    }
   ],
   "source": [
    "print(count) # produces same output."
   ]
  }
 ],
 "metadata": {
  "interpreter": {
   "hash": "767d51c1340bd893661ea55ea3124f6de3c7a262a8b4abca0554b478b1e2ff90"
  },
  "kernelspec": {
   "display_name": "Python 3.9.10 64-bit",
   "language": "python",
   "name": "python3"
  },
  "language_info": {
   "codemirror_mode": {
    "name": "ipython",
    "version": 3
   },
   "file_extension": ".py",
   "mimetype": "text/x-python",
   "name": "python",
   "nbconvert_exporter": "python",
   "pygments_lexer": "ipython3",
   "version": "3.9.10"
  },
  "orig_nbformat": 4
 },
 "nbformat": 4,
 "nbformat_minor": 2
}
